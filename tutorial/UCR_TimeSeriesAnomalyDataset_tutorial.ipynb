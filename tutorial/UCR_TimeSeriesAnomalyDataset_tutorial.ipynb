{
 "cells": [
  {
   "cell_type": "markdown",
   "metadata": {},
   "source": [
    "# UCR Time-Series Anomaly Archive\n",
    "\n",
    "- UCR Time-Series Anomaly Detection에 사용되는 데이터셋에 관한 tutorial 자료다.\n",
    "- [Current Time Series Anomaly Detection Benchmarks are Flawed and are Creating the Illusion of Progress](https://arxiv.org/abs/2009.13807) 논문에서 이야기하는 데이터셋이다."
   ]
  },
  {
   "cell_type": "code",
   "execution_count": null,
   "metadata": {},
   "outputs": [],
   "source": [
    "import os\n",
    "import pandas as pd\n",
    "from git import Repo"
   ]
  },
  {
   "cell_type": "markdown",
   "metadata": {},
   "source": [
    "데이터 개수와 파일명을 확인할 수 있다."
   ]
  },
  {
   "cell_type": "code",
   "execution_count": null,
   "metadata": {},
   "outputs": [],
   "source": [
    "git_root = Repo(os.getcwd(), search_parent_directories=True).git.rev_parse(\"--show-toplevel\")\n",
    "dataset_path = os.path.join(git_root, \"data/AnomalyDatasets_2021/UCR_TimeSeriesAnomalyDatasets2021/FilesAreInHere/UCR_Anomaly_FullData\")\n",
    "files = os.listdir(dataset_path)\n",
    "print(\"데이터셋 파일 수 : \", len(files))\n",
    "print(\"파일 명 example : \", files[0])"
   ]
  },
  {
   "cell_type": "markdown",
   "metadata": {},
   "source": [
    "이 데이터셋은 univariate time series 데이터셋이다. 파일명을 통해 train data의 범위, anomaly가 나타난 범위를 알 수 있다.\n",
    "\n",
    "예시)\n",
    "- 001_UCR_Anomaly_DISTORTED1sddb40_35000_52000_52620.txt 파일을 보자.\n",
    "- time index 0 ~ 35000까지 train data 범위가 된다.\n",
    "- 35000이후는 test 데이터가 되며 time index 52000~52620은 anomaly가 발생한 범위다."
   ]
  },
  {
   "cell_type": "code",
   "execution_count": null,
   "metadata": {},
   "outputs": [],
   "source": [
    "splited_names = files[0].replace(\".txt\", \"\").split(\"_\")\n",
    "train_idx = int(splited_names[-3])\n",
    "anomaly_start_idx = int(splited_names[-2])\n",
    "anomaly_end_idx = int(splited_names[-1])\n",
    "print(files[0]) \n",
    "print(train_idx, anomaly_start_idx, anomaly_end_idx)\n"
   ]
  },
  {
   "cell_type": "markdown",
   "metadata": {},
   "source": [
    "Visualization"
   ]
  },
  {
   "cell_type": "code",
   "execution_count": null,
   "metadata": {},
   "outputs": [],
   "source": [
    "data = pd.read_csv(os.path.join(dataset_path, files[0]), header=None)\n",
    "ax = data[:train_idx].plot(figsize=(20,10))\n",
    "data[train_idx:].plot(ax=ax)\n",
    "ax.axvspan(xmin=anomaly_start_idx, xmax=anomaly_end_idx, color=\"red\", alpha=0.3)\n",
    "ax.legend([\"train\",\"test\"])\n"
   ]
  },
  {
   "cell_type": "code",
   "execution_count": null,
   "metadata": {},
   "outputs": [],
   "source": []
  }
 ],
 "metadata": {
  "interpreter": {
   "hash": "70a608c5a8c1c49dd32ed665002e7b808e00be30b0447ac6defb63c05cbd51a0"
  },
  "kernelspec": {
   "display_name": "Python 3.8.8 ('anomalydetection_hub')",
   "language": "python",
   "name": "python3"
  },
  "language_info": {
   "codemirror_mode": {
    "name": "ipython",
    "version": 3
   },
   "file_extension": ".py",
   "mimetype": "text/x-python",
   "name": "python",
   "nbconvert_exporter": "python",
   "pygments_lexer": "ipython3",
   "version": "3.8.8"
  },
  "orig_nbformat": 4
 },
 "nbformat": 4,
 "nbformat_minor": 2
}
